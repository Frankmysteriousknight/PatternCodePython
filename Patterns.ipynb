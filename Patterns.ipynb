{
 "cells": [
  {
   "cell_type": "markdown",
   "metadata": {},
   "source": [
    "<H1>Patterns</H1>\n",
    "\n"
   ]
  },
  {
   "cell_type": "code",
   "execution_count": 3,
   "metadata": {},
   "outputs": [
    {
     "name": "stdout",
     "output_type": "stream",
     "text": [
      "Enter the number6\n",
      "\n",
      "*\n",
      "**\n",
      "***\n",
      "****\n",
      "*****\n"
     ]
    }
   ],
   "source": [
    "n=int(input(\"Enter the number\"))\n",
    "for var in range(0,n):\n",
    "    for var1 in range(0,var):\n",
    "        print('*',end='')\n",
    "    print(\"\\n\",end='')"
   ]
  },
  {
   "cell_type": "code",
   "execution_count": 4,
   "metadata": {},
   "outputs": [
    {
     "name": "stdout",
     "output_type": "stream",
     "text": [
      "Enter the number6\n",
      "\n",
      "1\n",
      "22\n",
      "333\n",
      "4444\n",
      "55555\n"
     ]
    }
   ],
   "source": [
    "n=int(input(\"Enter the number\"))\n",
    "for var in range(0,n):\n",
    "    for var1 in range(0,var):\n",
    "        print(var,end='')\n",
    "    print(\"\\n\",end='')\n",
    "\n",
    "    "
   ]
  },
  {
   "cell_type": "code",
   "execution_count": 5,
   "metadata": {},
   "outputs": [
    {
     "name": "stdout",
     "output_type": "stream",
     "text": [
      "Enter the number6\n",
      "\n",
      "1\n",
      "12\n",
      "123\n",
      "1234\n",
      "12345\n"
     ]
    }
   ],
   "source": [
    "n=int(input(\"Enter the number\"))\n",
    "for var in range(0,n):\n",
    "    t=1\n",
    "    for var1 in range(0,var):\n",
    "        print(t,end='')\n",
    "        t=t+1\n",
    "    print(\"\\n\",end='')\n"
   ]
  },
  {
   "cell_type": "code",
   "execution_count": 6,
   "metadata": {},
   "outputs": [
    {
     "name": "stdout",
     "output_type": "stream",
     "text": [
      "Enter the number8\n",
      "1\n",
      "01\n",
      "101\n",
      "0101\n",
      "10101\n",
      "010101\n",
      "1010101\n",
      "01010101\n"
     ]
    }
   ],
   "source": [
    "n=int(input(\"Enter the number\"))\n",
    "t=1\n",
    "for var in range(1,n+1):\n",
    "    for var1 in range(0,var):\n",
    "        print(t,end='')\n",
    "        if t==0:\n",
    "            t=1\n",
    "        else:\n",
    "            t=0\n",
    "    print(\"\\n\",end='')\n",
    "    if var%2!=0:\n",
    "        t=0\n",
    "    else:\n",
    "        t=1\n"
   ]
  },
  {
   "cell_type": "code",
   "execution_count": 7,
   "metadata": {},
   "outputs": [
    {
     "name": "stdout",
     "output_type": "stream",
     "text": [
      "Enter the number8\n",
      "\n",
      "1 \n",
      "2 3 \n",
      "4 5 6 \n",
      "7 8 9 10 \n",
      "11 12 13 14 15 \n",
      "16 17 18 19 20 21 \n",
      "22 23 24 25 26 27 28 \n"
     ]
    }
   ],
   "source": [
    "n=int(input(\"Enter the number\"))\n",
    "t=1\n",
    "for var in range(0,n):\n",
    "    for var1 in range(0,var):\n",
    "        print(t,end=' ')\n",
    "        t=t+1\n",
    "    print(\"\\n\",end='')\n"
   ]
  },
  {
   "cell_type": "code",
   "execution_count": 8,
   "metadata": {},
   "outputs": [
    {
     "name": "stdout",
     "output_type": "stream",
     "text": [
      "Enter the number7\n",
      "\n",
      "5\n",
      "54\n",
      "543\n",
      "5432\n",
      "54321\n",
      "543210\n"
     ]
    }
   ],
   "source": [
    "n=int(input(\"Enter the number\"))\n",
    "for var in range(0,n):\n",
    "    t=5\n",
    "    for var1 in range(0,var):\n",
    "        print(t,end='')\n",
    "        t=t-1\n",
    "    print(\"\\n\",end='')\n"
   ]
  },
  {
   "cell_type": "code",
   "execution_count": 9,
   "metadata": {},
   "outputs": [
    {
     "name": "stdout",
     "output_type": "stream",
     "text": [
      "Enter the number6\n",
      "\n",
      "5\n",
      "44\n",
      "333\n",
      "2222\n",
      "11111\n"
     ]
    }
   ],
   "source": [
    "n=int(input(\"Enter the number\"))\n",
    "t=6\n",
    "for var in range(0,n):\n",
    "    for var1 in range(0,var):\n",
    "        print(t,end='')\n",
    "    print(\"\\n\",end='')\n",
    "    t=t-1\n"
   ]
  },
  {
   "cell_type": "code",
   "execution_count": 10,
   "metadata": {},
   "outputs": [
    {
     "name": "stdout",
     "output_type": "stream",
     "text": [
      "Enter the number8\n",
      "********\n",
      "*******\n",
      "******\n",
      "*****\n",
      "****\n",
      "***\n",
      "**\n",
      "*\n"
     ]
    }
   ],
   "source": [
    "n=int(input(\"Enter the number\"))\n",
    "while n>0:\n",
    "    for var1 in range(0,n):\n",
    "        print('*',end='')\n",
    "    print(\"\\n\",end='')\n",
    "    n=n-1\n"
   ]
  },
  {
   "cell_type": "code",
   "execution_count": 11,
   "metadata": {},
   "outputs": [
    {
     "name": "stdout",
     "output_type": "stream",
     "text": [
      "Enter the number7\n",
      "123456\n",
      "12345\n",
      "1234\n",
      "123\n",
      "12\n",
      "1\n",
      "\n"
     ]
    }
   ],
   "source": [
    "n=int(input(\"Enter the number\"))\n",
    "while n>0:\n",
    "    for var1 in range(1,n):\n",
    "        print(var1,end='')\n",
    "    print(\"\\n\",end='')\n",
    "    n=n-1\n"
   ]
  },
  {
   "cell_type": "code",
   "execution_count": 54,
   "metadata": {},
   "outputs": [
    {
     "name": "stdout",
     "output_type": "stream",
     "text": [
      "Enter the number5\n",
      "11111\n",
      "2222\n",
      "333\n",
      "22\n",
      "1\n"
     ]
    }
   ],
   "source": [
    "n=int(input(\"Enter the number\"))\n",
    "t=1\n",
    "l=n\n",
    "for var in range(-n,0):\n",
    "    for var1 in range(-n,0):\n",
    "        print(t,end='')\n",
    "    if var<(-l-1)//2:\n",
    "        t+=1\n",
    "    else:\n",
    "        t-=1\n",
    "    \n",
    "    print(\"\\n\",end='')\n",
    "    n=n-1"
   ]
  },
  {
   "cell_type": "code",
   "execution_count": 55,
   "metadata": {},
   "outputs": [
    {
     "name": "stdout",
     "output_type": "stream",
     "text": [
      "Enter the number6\n",
      "          \n",
      "        * \n",
      "      * * \n",
      "    * * * \n",
      "  * * * * \n",
      "* * * * * \n"
     ]
    }
   ],
   "source": [
    "n=int(input(\"Enter the number\"))\n",
    "for var in range(0,n):\n",
    "    for var1 in range(0,2*n-2):\n",
    "        print(' ',end='')\n",
    "    n=n-1\n",
    "    for var1 in range(0,var):\n",
    "        print('* ',end='')\n",
    "    print('')\n",
    "    \n",
    "    "
   ]
  },
  {
   "cell_type": "code",
   "execution_count": 56,
   "metadata": {},
   "outputs": [
    {
     "name": "stdout",
     "output_type": "stream",
     "text": [
      "Enter the number6\n",
      "          \n",
      "         * \n",
      "        * * \n",
      "       * * * \n",
      "      * * * * \n",
      "     * * * * * \n"
     ]
    }
   ],
   "source": [
    "n=int(input(\"Enter the number\"))\n",
    "k=2*n-2\n",
    "for var in range(0,n):\n",
    "    for var1 in range(0,k):\n",
    "        print(' ',end='')\n",
    "    k=k-1\n",
    "    for var1 in range(0,var):\n",
    "        print('* ',end='')\n",
    "    print('')"
   ]
  },
  {
   "cell_type": "code",
   "execution_count": 57,
   "metadata": {},
   "outputs": [
    {
     "name": "stdout",
     "output_type": "stream",
     "text": [
      "Enter the number6\n",
      "          \n",
      "         1 \n",
      "        1 2 \n",
      "       1 2 3 \n",
      "      1 2 3 4 \n",
      "     1 2 3 4 5 \n"
     ]
    }
   ],
   "source": [
    "n=int(input(\"Enter the number\"))\n",
    "k=2*n-2\n",
    "for var in range(0,n):\n",
    "    for var1 in range(0,k):\n",
    "        print(' ',end='')\n",
    "    k=k-1\n",
    "    for var1 in range(0,var):\n",
    "        print(var1+1,'',end='')\n",
    "    print('')"
   ]
  },
  {
   "cell_type": "code",
   "execution_count": 58,
   "metadata": {},
   "outputs": [
    {
     "name": "stdout",
     "output_type": "stream",
     "text": [
      "Enter the number6\n",
      "          \n",
      "        1 \n",
      "      1 2 \n",
      "    1 2 3 \n",
      "  1 2 3 4 \n",
      "1 2 3 4 5 \n"
     ]
    }
   ],
   "source": [
    "n=int(input(\"Enter the number\"))\n",
    "for var in range(0,n):\n",
    "    for var1 in range(0,2*n-2):\n",
    "        print(' ',end='')\n",
    "    n=n-1\n",
    "    for var1 in range(0,var):\n",
    "        print(var1+1,end=' ')\n",
    "    print('')\n",
    "    \n",
    "    "
   ]
  },
  {
   "cell_type": "code",
   "execution_count": 59,
   "metadata": {},
   "outputs": [
    {
     "name": "stdout",
     "output_type": "stream",
     "text": [
      "Enter the number6\n",
      "     *\n",
      "    ***\n",
      "   *****\n",
      "  *******\n",
      " *********\n"
     ]
    }
   ],
   "source": [
    "n=int(input(\"Enter the number\"))\n",
    "for var in range(1,n):\n",
    "    for var1 in range(0,n-var):\n",
    "        print(' ',end='')\n",
    "    for var1 in range(0,var*2-1):\n",
    "        print('*',end='')\n",
    "    print('')\n"
   ]
  },
  {
   "cell_type": "code",
   "execution_count": 68,
   "metadata": {},
   "outputs": [
    {
     "name": "stdout",
     "output_type": "stream",
     "text": [
      "Enter a number9\n",
      "         1\n",
      "        222\n",
      "       33333\n",
      "      4444444\n",
      "     555555555\n",
      "    66666666666\n",
      "   7777777777777\n"
     ]
    }
   ],
   "source": [
    "n=int(input(\"Enter a number\"))\n",
    "t=1\n",
    "for var in range(2,n):\n",
    "    t+=1\n",
    "    for var1 in range(0,n-var+2):\n",
    "        print(' ',end='')\n",
    "    for var1 in range(0,2*var-3):\n",
    "        print(t-1,end='')\n",
    "\n",
    "    print('')"
   ]
  },
  {
   "cell_type": "code",
   "execution_count": 69,
   "metadata": {},
   "outputs": [
    {
     "name": "stdout",
     "output_type": "stream",
     "text": [
      "Enter a number7\n",
      "     1\n",
      "    123\n",
      "   12345\n",
      "  1234567\n",
      " 123456789\n"
     ]
    }
   ],
   "source": [
    "n=int(input(\"Enter a number\"))\n",
    "for var in range(2,n):\n",
    "    for var1 in range(0,n-var):\n",
    "        print(' ',end='')\n",
    "    for var1 in range(0,2*var-3):\n",
    "        print(var1+1,end='')\n",
    "    print('')\n"
   ]
  },
  {
   "cell_type": "code",
   "execution_count": 70,
   "metadata": {},
   "outputs": [
    {
     "name": "stdout",
     "output_type": "stream",
     "text": [
      "Enter the number9\n",
      "                \n",
      "               * \n",
      "              \n",
      "             * * * \n",
      "            \n",
      "           * * * * * \n",
      "          \n",
      "         * * * * * * * \n",
      "        \n"
     ]
    }
   ],
   "source": [
    "n=int(input(\"Enter the number\"))\n",
    "k=2*n-2\n",
    "for var in range(0,n):\n",
    "    for var1 in range(0,k):\n",
    "        print(' ',end='')\n",
    "    k=k-1\n",
    "    if var%2!=0:\n",
    "        for var1 in range(0,var):\n",
    "            print('* ',end='')\n",
    "    print('')"
   ]
  },
  {
   "cell_type": "code",
   "execution_count": 72,
   "metadata": {},
   "outputs": [
    {
     "name": "stdout",
     "output_type": "stream",
     "text": [
      "Enter a number8\n",
      "      \n",
      "     1\n",
      "    232\n",
      "   34543\n",
      "  4567654\n",
      " 567898765\n"
     ]
    }
   ],
   "source": [
    "n=int(input(\"Enter a number\"))\n",
    "t=1\n",
    "for var in range(2,n):\n",
    "    l=t\n",
    "    for var1 in range(0,n-var):\n",
    "        print(' ',end='')\n",
    "    for var1 in range(2,2*var-3):\n",
    "        print(l-1,end='')\n",
    "        if var1<(2*var-2)/2:\n",
    "            l=l+1\n",
    "        else:\n",
    "            l=l-1\n",
    "    t+=1\n",
    "    \n",
    "    print('')\n"
   ]
  },
  {
   "cell_type": "code",
   "execution_count": 73,
   "metadata": {},
   "outputs": [
    {
     "name": "stdout",
     "output_type": "stream",
     "text": [
      "Enter a number8\n",
      "      \n",
      "     5\n",
      "    545\n",
      "   54345\n",
      "  5432345\n",
      " 543212345\n"
     ]
    }
   ],
   "source": [
    "n=int(input(\"Enter a number\"))\n",
    "t=5\n",
    "for var in range(2,n):\n",
    "    l=t\n",
    "    for var1 in range(0,n-var):\n",
    "        print(' ',end='')\n",
    "    for var1 in range(2,2*var-3):\n",
    "        print(l,end='')\n",
    "        if var1<(2*var-2)/2:\n",
    "            l=l-1\n",
    "        else:\n",
    "            l=l+1\n",
    "    \n",
    "    print('')"
   ]
  },
  {
   "cell_type": "code",
   "execution_count": 74,
   "metadata": {},
   "outputs": [
    {
     "name": "stdout",
     "output_type": "stream",
     "text": [
      "Enter a number8\n",
      "  *********\n",
      "   *******\n",
      "    *****\n",
      "     ***\n",
      "      *\n",
      "       \n"
     ]
    }
   ],
   "source": [
    "n=int(input(\"Enter a number\"))\n",
    "count=1\n",
    "for var in range(1,n-1):\n",
    "    for var1 in range(0,count+1):\n",
    "        print(' ',end='')\n",
    "    count=count+1\n",
    "    for var1 in range(2,2*(n-var)-3):\n",
    "       \n",
    "        print('*',end='')\n",
    "    print('')"
   ]
  },
  {
   "cell_type": "code",
   "execution_count": 75,
   "metadata": {},
   "outputs": [
    {
     "name": "stdout",
     "output_type": "stream",
     "text": [
      "Enter a number8\n",
      "  555555555\n",
      "   4444444\n",
      "    33333\n",
      "     222\n",
      "      1\n",
      "       \n"
     ]
    }
   ],
   "source": [
    "n=int(input(\"Enter a number\"))\n",
    "count=1\n",
    "t=5\n",
    "for var in range(1,n-1):\n",
    "    for var1 in range(0,count+1):\n",
    "        print(' ',end='')\n",
    "    count=count+1\n",
    "    for var1 in range(2,2*(n-var)-3):\n",
    "       \n",
    "        print(t,end='')\n",
    "    t=t-1\n",
    "    print('')"
   ]
  },
  {
   "cell_type": "code",
   "execution_count": 76,
   "metadata": {},
   "outputs": [
    {
     "name": "stdout",
     "output_type": "stream",
     "text": [
      "Enter a number8\n",
      " 123456789\n",
      "  1234567\n",
      "   12345\n",
      "    123\n",
      "     1\n",
      "      \n"
     ]
    }
   ],
   "source": [
    "n=int(input(\"Enter a number\"))\n",
    "count=1\n",
    "for var in range(1,n-1):\n",
    "    t=1\n",
    "    for var1 in range(0,count):\n",
    "        print(' ',end='')\n",
    "    count=count+1\n",
    "    for var1 in range(2,2*(n-var)-3):\n",
    "           \n",
    "        print(t,end='')\n",
    "        t+=1\n",
    "    print('')"
   ]
  },
  {
   "cell_type": "code",
   "execution_count": 78,
   "metadata": {},
   "outputs": [
    {
     "name": "stdout",
     "output_type": "stream",
     "text": [
      "Enter a number7\n",
      "  567898765\n",
      "   4567654\n",
      "    34543\n",
      "     232\n",
      "      1\n",
      "       \n"
     ]
    }
   ],
   "source": [
    "n=int(input(\"Enter a number\"))\n",
    "count=1\n",
    "t=5\n",
    "for var in range(0,n-1):\n",
    "    l=t \n",
    "    for var1 in range(0,count+1):\n",
    "        print(' ',end='')\n",
    "    count=count+1\n",
    "    for var1 in range(2,2*(n-var)-3):\n",
    "        print(l,end='')\n",
    "        if var1<(2*(n-var)-2)/2:\n",
    "            l=l+1\n",
    "        else:\n",
    "            l=l-1\n",
    "    t-=1\n",
    "    print('')"
   ]
  },
  {
   "cell_type": "code",
   "execution_count": 79,
   "metadata": {},
   "outputs": [
    {
     "name": "stdout",
     "output_type": "stream",
     "text": [
      "Enter a number7\n",
      "  543212345\n",
      "   5432345\n",
      "    54345\n",
      "     545\n",
      "      5\n",
      "       \n"
     ]
    }
   ],
   "source": [
    "n=int(input(\"Enter a number\"))\n",
    "count=1\n",
    "t=5\n",
    "for var in range(0,n-1):\n",
    "    l=t \n",
    "    for var1 in range(0,count+1):\n",
    "        print(' ',end='')\n",
    "    count=count+1\n",
    "    for var1 in range(2,2*(n-var)-3):\n",
    "        print(l,end='')\n",
    "        if var1<(2*(n-var)-2)/2:\n",
    "            l=l-1\n",
    "        else:\n",
    "            l=l+1\n",
    "    print('')"
   ]
  },
  {
   "cell_type": "code",
   "execution_count": 80,
   "metadata": {},
   "outputs": [
    {
     "name": "stdout",
     "output_type": "stream",
     "text": [
      "Enter a number8\n",
      "        \n",
      "       \n",
      "      *\n",
      "     ***\n",
      "    *****\n",
      "   *******\n",
      "  *********\n",
      " ***********\n",
      "  *********\n",
      "   *******\n",
      "    *****\n",
      "     ***\n",
      "      *\n",
      "       \n"
     ]
    }
   ],
   "source": [
    "n=int(input(\"Enter a number\"))\n",
    "for var in range(0,n):\n",
    "    for var1 in range(0,n-var):\n",
    "        print(' ',end='')\n",
    "    for var1 in range(0,2*var-3):\n",
    "        print('*',end='')\n",
    "    print('')\n",
    "count=1\n",
    "for var in range(1,n-1):\n",
    "    for var1 in range(0,count+1):\n",
    "        print(' ',end='')\n",
    "    count=count+1\n",
    "    for var1 in range(2,2*(n-var)-3):\n",
    "       \n",
    "        print('*',end='')\n",
    "    print('')"
   ]
  },
  {
   "cell_type": "code",
   "execution_count": 81,
   "metadata": {},
   "outputs": [
    {
     "name": "stdout",
     "output_type": "stream",
     "text": [
      "Enter a number8\n",
      "      1\n",
      "     222\n",
      "    33333\n",
      "   4444444\n",
      "  555555555\n",
      " 66666666666\n",
      "  555555555\n",
      "   4444444\n",
      "    33333\n",
      "     222\n",
      "      1\n",
      "       \n"
     ]
    }
   ],
   "source": [
    "n=int(input(\"Enter a number\"))\n",
    "t=1\n",
    "for var in range(2,n):\n",
    "    \n",
    "    t+=1\n",
    "    for var1 in range(0,n-var):\n",
    "        print(' ',end='')\n",
    "    for var1 in range(0,2*var-3):\n",
    "        print(t-1,end='')\n",
    "    \n",
    "    print('')\n",
    "count=1\n",
    "t-=1\n",
    "for var in range(1,n-1):\n",
    "    for var1 in range(0,count+1):\n",
    "        print(' ',end='')\n",
    "    count=count+1\n",
    "    t-=1\n",
    "    for var1 in range(2,2*(n-var)-3):\n",
    "       \n",
    "        print(t,end='')\n",
    "    print('')"
   ]
  },
  {
   "cell_type": "code",
   "execution_count": 83,
   "metadata": {},
   "outputs": [
    {
     "name": "stdout",
     "output_type": "stream",
     "text": [
      "Enter a number7\n",
      "     1\n",
      "    123\n",
      "   12345\n",
      "  1234567\n",
      " 123456789\n",
      "  1234567\n",
      "   12345\n",
      "    123\n",
      "     1\n",
      "      \n"
     ]
    }
   ],
   "source": [
    "n=int(input(\"Enter a number\"))\n",
    "for var in range(2,n):\n",
    "    t=1\n",
    "    for var1 in range(0,n-var):\n",
    "        print(' ',end='')\n",
    "    for var1 in range(0,2*var-3):\n",
    "        print(t,end='')\n",
    "        t+=1\n",
    "    \n",
    "    print('')\n",
    "count=1\n",
    "\n",
    "for var in range(1,n-1):\n",
    "    t=1\n",
    "    for var1 in range(0,count+1):\n",
    "        print(' ',end='')\n",
    "    count=count+1\n",
    "    for var1 in range(2,2*(n-var)-3):\n",
    "       \n",
    "        print(t,end='')\n",
    "        t+=1\n",
    "    print('')"
   ]
  },
  {
   "cell_type": "code",
   "execution_count": 84,
   "metadata": {},
   "outputs": [
    {
     "name": "stdout",
     "output_type": "stream",
     "text": [
      "Enter a number8\n",
      "      \n",
      "     1\n",
      "    232\n",
      "   34543\n",
      "  4567654\n",
      " 567898765\n",
      "  4567654\n",
      "   34543\n",
      "    232\n",
      "     1\n",
      "      \n"
     ]
    }
   ],
   "source": [
    "n=int(input(\"Enter a number\"))\n",
    "t=1\n",
    "for var in range(2,n):\n",
    "    l=t\n",
    "    for var1 in range(0,n-var):\n",
    "        print(' ',end='')\n",
    "    for var1 in range(2,2*var-3):\n",
    "        print(l-1,end='')\n",
    "        if var1<(2*var-2)/2:\n",
    "            l=l+1\n",
    "        else:\n",
    "            l=l-1\n",
    "    t+=1\n",
    "    \n",
    "    print('')\n",
    "count=1\n",
    "t=t-2\n",
    "for var in range(2,n-1):\n",
    "    l=t-1\n",
    "    for var1 in range(0,count+1):\n",
    "        print(' ',end='')\n",
    "    count=count+1\n",
    "    for var1 in range(2,2*(n-var)-3):\n",
    "        print(l,end='')\n",
    "        if var1<(2*(n-var)-2)/2:\n",
    "            l=l+1\n",
    "        else:\n",
    "            l=l-1\n",
    "    t-=1\n",
    "        \n",
    "    print('')"
   ]
  },
  {
   "cell_type": "code",
   "execution_count": 85,
   "metadata": {},
   "outputs": [
    {
     "name": "stdout",
     "output_type": "stream",
     "text": [
      "Enter a number8\n",
      "      \n",
      "     5\n",
      "    545\n",
      "   54345\n",
      "  5432345\n",
      " 543212345\n",
      "  5432345\n",
      "   54345\n",
      "    545\n",
      "     5\n",
      "      \n"
     ]
    }
   ],
   "source": [
    "n=int(input(\"Enter a number\"))\n",
    "t=5\n",
    "for var in range(2,n):\n",
    "    l=t\n",
    "    for var1 in range(0,n-var):\n",
    "        print(' ',end='')\n",
    "    for var1 in range(2,2*var-3):\n",
    "        print(l,end='')\n",
    "        if var1<(2*var-2)/2:\n",
    "            l=l-1\n",
    "        else:\n",
    "            l=l+1\n",
    "    \n",
    "    print('')\n",
    "count=1\n",
    "t=5\n",
    "for var in range(2,n-1):\n",
    "    l=t\n",
    "    for var1 in range(0,count+1):\n",
    "        print(' ',end='')\n",
    "    count=count+1\n",
    "    for var1 in range(2,2*(n-var)-3):\n",
    "        print(l,end='')\n",
    "        if var1<(2*(n-var)-2)/2:\n",
    "            l=l-1\n",
    "        else:\n",
    "            l=l+1\n",
    "        \n",
    "    print('')"
   ]
  },
  {
   "cell_type": "code",
   "execution_count": 86,
   "metadata": {},
   "outputs": [
    {
     "name": "stdout",
     "output_type": "stream",
     "text": [
      "Enter the Number9\n",
      "*********\n",
      "*********\n",
      "*********\n",
      "*********\n",
      "*********\n",
      "*********\n",
      "*********\n",
      "*********\n",
      "*********\n"
     ]
    }
   ],
   "source": [
    "n=int(input(\"Enter the Number\"))\n",
    "for var in range(0,n):\n",
    "    for var1 in range(0,n):\n",
    "        print('*',end='')\n",
    "    print('')"
   ]
  },
  {
   "cell_type": "code",
   "execution_count": 87,
   "metadata": {},
   "outputs": [
    {
     "name": "stdout",
     "output_type": "stream",
     "text": [
      "Enter the Number9\n",
      "*********\n",
      "*       *\n",
      "*       *\n",
      "*       *\n",
      "*       *\n",
      "*       *\n",
      "*       *\n",
      "*       *\n",
      "*********\n"
     ]
    }
   ],
   "source": [
    "n=int(input(\"Enter the Number\"))\n",
    "for var in range(0,n):\n",
    "    if var==0 or var==n-1:\n",
    "        for var1 in range(0,n):\n",
    "            print('*',end='')\n",
    "    else:\n",
    "        for var1 in range(0,n):\n",
    "            if var1==0 or var1==n-1:\n",
    "                print('*',end='')\n",
    "            else:\n",
    "                print(' ',end='')\n",
    "\n",
    "    print('')"
   ]
  },
  {
   "cell_type": "code",
   "execution_count": 88,
   "metadata": {},
   "outputs": [
    {
     "name": "stdout",
     "output_type": "stream",
     "text": [
      "Enter the Number8\n",
      "\\******\\\n",
      "*\\****\\*\n",
      "**\\**\\**\n",
      "***\\\\***\n",
      "***\\\\***\n",
      "**\\**\\**\n",
      "*\\****\\*\n",
      "\\******\\\n"
     ]
    }
   ],
   "source": [
    "n=int(input(\"Enter the Number\"))\n",
    "l=0\n",
    "r=n-1\n",
    "for var in range(0,n):\n",
    "    for var1 in range(0,n):\n",
    "        if var1==l or var1==r:\n",
    "            print('\\\\',end='')\n",
    "        else:\n",
    "            print('*',end='')\n",
    "    print('')\n",
    "    l+=1\n",
    "    r-=1\n"
   ]
  },
  {
   "cell_type": "code",
   "execution_count": 89,
   "metadata": {},
   "outputs": [
    {
     "name": "stdout",
     "output_type": "stream",
     "text": [
      "Enter the Number9\n",
      "\\*******/\n",
      "*\\*****/*\n",
      "**\\***/**\n",
      "***\\*/***\n",
      "****\\****\n",
      "***/*\\***\n",
      "**/***\\**\n",
      "*/*****\\*\n",
      "/*******\\\n"
     ]
    }
   ],
   "source": [
    "n=int(input(\"Enter the Number\"))\n",
    "l=0\n",
    "r=n-1\n",
    "for var in range(0,n):\n",
    "    for var1 in range(0,n):\n",
    "        if var1==l:\n",
    "            print('\\\\',end='')\n",
    "        elif var1==r:\n",
    "            print('/',end='')\n",
    "        else:\n",
    "            print('*',end='')\n",
    "    print('')\n",
    "    l+=1\n",
    "    r-=1"
   ]
  },
  {
   "cell_type": "code",
   "execution_count": null,
   "metadata": {},
   "outputs": [],
   "source": []
  }
 ],
 "metadata": {
  "kernelspec": {
   "display_name": "Python 3",
   "language": "python",
   "name": "python3"
  },
  "language_info": {
   "codemirror_mode": {
    "name": "ipython",
    "version": 3
   },
   "file_extension": ".py",
   "mimetype": "text/x-python",
   "name": "python",
   "nbconvert_exporter": "python",
   "pygments_lexer": "ipython3",
   "version": "3.6.5"
  }
 },
 "nbformat": 4,
 "nbformat_minor": 2
}
